{
 "cells": [
  {
   "cell_type": "markdown",
   "metadata": {},
   "source": [
    "PCA for PCA-tech and PCA-price"
   ]
  },
  {
   "cell_type": "code",
   "execution_count": 1,
   "metadata": {
    "collapsed": true
   },
   "outputs": [],
   "source": [
    "import pandas as pd\n",
    "import numpy as np\n",
    "import datetime\n",
    "from sklearn.decomposition import PCA"
   ]
  },
  {
   "cell_type": "code",
   "execution_count": 2,
   "metadata": {
    "collapsed": true
   },
   "outputs": [],
   "source": [
    "def getFirstPC(df):\n",
    "    df_norm = (df - df.mean()) / (df.std()) # normalize data to the same unit\n",
    "    cv = df_norm.cov()\n",
    "    xcv, vcv = np.linalg.eig(cv)\n",
    "    pc = df_norm.dot(-vcv).iloc[:, 0]\n",
    "    return pc\n",
    "\n",
    "def getFirstPComp(df):\n",
    "    pca = PCA(n_components=1)\n",
    "    pca.fit(df)\n",
    "    pc = df.dot(pca.components_.T)\n",
    "    return pc"
   ]
  },
  {
   "cell_type": "code",
   "execution_count": 3,
   "metadata": {
    "collapsed": true
   },
   "outputs": [],
   "source": [
    "# for tech\n",
    "path = r'linear forecasting\\data\\\\'\n",
    "tech = pd.read_csv(path+r'PCAtech.csv',index_col=0,usecols=np.arange(0,14))\n",
    "tech_pc = getFirstPC(tech)\n",
    "tech['PCAtech'] = tech_pc\n",
    "tech.to_csv(path+r'PCAtech.csv')"
   ]
  },
  {
   "cell_type": "code",
   "execution_count": 4,
   "metadata": {
    "collapsed": true
   },
   "outputs": [],
   "source": [
    "# for price\n",
    "\n",
    "# read raw data\n",
    "varNames = ['DP','PE','BM','CAPE']\n",
    "DP = pd.read_csv(path + varNames[0]+'.csv', index_col=0, parse_dates=[0]) # montly at end of month\n",
    "BM = pd.read_csv(path + varNames[2]+'.csv', index_col=0, parse_dates=[0]) # monthly at end of month\n",
    "PE = pd.read_csv(path + varNames[1]+'.csv',parse_dates=[0])# monthly at beginning of month\n",
    "CAPE = pd.read_csv(path + varNames[3]+'.csv', parse_dates=[0]) # monthly at beginning of month\n",
    "\n",
    "# matching dates\n",
    "CAPE['Date'] = CAPE['Date'] - datetime.timedelta(1)\n",
    "PE['Date'] = PE['Date'] - datetime.timedelta(1)\n",
    "CAPE = CAPE.set_index('Date')\n",
    "PE = PE.set_index('Date')\n",
    "\n",
    "# join four prices \n",
    "price = pd.concat([DP,PE,BM,CAPE],axis=1)\n",
    "price = price.dropna(axis=0, how='any')\n",
    "price.head()\n",
    "\n",
    "# pca\n",
    "price_pc = getFirstPC(price)\n",
    "price['PCAprice'] = price_pc\n",
    "price_pc.describe()\n",
    "price.to_csv(path+r'PCAprice.csv')"
   ]
  },
  {
   "cell_type": "code",
   "execution_count": null,
   "metadata": {
    "collapsed": true
   },
   "outputs": [],
   "source": []
  },
  {
   "cell_type": "code",
   "execution_count": null,
   "metadata": {
    "collapsed": true
   },
   "outputs": [],
   "source": []
  }
 ],
 "metadata": {
  "anaconda-cloud": {},
  "kernelspec": {
   "display_name": "Python [default]",
   "language": "python",
   "name": "python2"
  },
  "language_info": {
   "codemirror_mode": {
    "name": "ipython",
    "version": 2
   },
   "file_extension": ".py",
   "mimetype": "text/x-python",
   "name": "python",
   "nbconvert_exporter": "python",
   "pygments_lexer": "ipython2",
   "version": "2.7.12"
  }
 },
 "nbformat": 4,
 "nbformat_minor": 2
}
