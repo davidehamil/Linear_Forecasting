{
 "cells": [
  {
   "cell_type": "markdown",
   "metadata": {},
   "source": [
    "# Backtest all models to obtain a realistic pnl for each"
   ]
  },
  {
   "cell_type": "code",
   "execution_count": 222,
   "metadata": {},
   "outputs": [
    {
     "data": {
      "text/html": [
       "<div>\n",
       "<style>\n",
       "    .dataframe thead tr:only-child th {\n",
       "        text-align: right;\n",
       "    }\n",
       "\n",
       "    .dataframe thead th {\n",
       "        text-align: left;\n",
       "    }\n",
       "\n",
       "    .dataframe tbody tr th {\n",
       "        vertical-align: top;\n",
       "    }\n",
       "</style>\n",
       "<table border=\"1\" class=\"dataframe\">\n",
       "  <thead>\n",
       "    <tr style=\"text-align: right;\">\n",
       "      <th></th>\n",
       "      <th>SPY</th>\n",
       "    </tr>\n",
       "    <tr>\n",
       "      <th>Date</th>\n",
       "      <th></th>\n",
       "    </tr>\n",
       "  </thead>\n",
       "  <tbody>\n",
       "    <tr>\n",
       "      <th>2000-01-03</th>\n",
       "      <td>145.4375</td>\n",
       "    </tr>\n",
       "    <tr>\n",
       "      <th>2000-01-04</th>\n",
       "      <td>139.7500</td>\n",
       "    </tr>\n",
       "    <tr>\n",
       "      <th>2000-01-05</th>\n",
       "      <td>140.0000</td>\n",
       "    </tr>\n",
       "    <tr>\n",
       "      <th>2000-01-06</th>\n",
       "      <td>137.7500</td>\n",
       "    </tr>\n",
       "    <tr>\n",
       "      <th>2000-01-07</th>\n",
       "      <td>145.7500</td>\n",
       "    </tr>\n",
       "  </tbody>\n",
       "</table>\n",
       "</div>"
      ],
      "text/plain": [
       "                 SPY\n",
       "Date                \n",
       "2000-01-03  145.4375\n",
       "2000-01-04  139.7500\n",
       "2000-01-05  140.0000\n",
       "2000-01-06  137.7500\n",
       "2000-01-07  145.7500"
      ]
     },
     "execution_count": 222,
     "metadata": {},
     "output_type": "execute_result"
    }
   ],
   "source": [
    "import pandas as pd\n",
    "import numpy as np\n",
    "import datetime as dt\n",
    "\n",
    "# Load daily closing prices for SPY, using'Date' column as DataFrame index & parsing trade dates to datetime objects \n",
    "data = pd.read_csv(r'price_data\\SPY.csv',index_col=\"Date\",parse_dates=True)\n",
    "\n",
    "# define a specic dataframe\n",
    "df_SP = pd.DataFrame(data['SPY'][data.index >= dt.datetime(2000, 1, 3)])\n",
    "df_SP.head()"
   ]
  },
  {
   "cell_type": "markdown",
   "metadata": {},
   "source": [
    "### Calculate pnl for Buy & Hold SPY"
   ]
  },
  {
   "cell_type": "code",
   "execution_count": 223,
   "metadata": {},
   "outputs": [
    {
     "data": {
      "text/html": [
       "<div>\n",
       "<style>\n",
       "    .dataframe thead tr:only-child th {\n",
       "        text-align: right;\n",
       "    }\n",
       "\n",
       "    .dataframe thead th {\n",
       "        text-align: left;\n",
       "    }\n",
       "\n",
       "    .dataframe tbody tr th {\n",
       "        vertical-align: top;\n",
       "    }\n",
       "</style>\n",
       "<table border=\"1\" class=\"dataframe\">\n",
       "  <thead>\n",
       "    <tr style=\"text-align: right;\">\n",
       "      <th></th>\n",
       "      <th>SPY</th>\n",
       "      <th>% Change</th>\n",
       "      <th>cum_rets</th>\n",
       "    </tr>\n",
       "    <tr>\n",
       "      <th>Date</th>\n",
       "      <th></th>\n",
       "      <th></th>\n",
       "      <th></th>\n",
       "    </tr>\n",
       "  </thead>\n",
       "  <tbody>\n",
       "    <tr>\n",
       "      <th>2000-01-03</th>\n",
       "      <td>145.4375</td>\n",
       "      <td>NaN</td>\n",
       "      <td>NaN</td>\n",
       "    </tr>\n",
       "    <tr>\n",
       "      <th>2000-01-04</th>\n",
       "      <td>139.7500</td>\n",
       "      <td>-0.039106</td>\n",
       "      <td>0.960894</td>\n",
       "    </tr>\n",
       "    <tr>\n",
       "      <th>2000-01-05</th>\n",
       "      <td>140.0000</td>\n",
       "      <td>0.001789</td>\n",
       "      <td>0.962613</td>\n",
       "    </tr>\n",
       "    <tr>\n",
       "      <th>2000-01-06</th>\n",
       "      <td>137.7500</td>\n",
       "      <td>-0.016071</td>\n",
       "      <td>0.947142</td>\n",
       "    </tr>\n",
       "    <tr>\n",
       "      <th>2000-01-07</th>\n",
       "      <td>145.7500</td>\n",
       "      <td>0.058076</td>\n",
       "      <td>1.002149</td>\n",
       "    </tr>\n",
       "  </tbody>\n",
       "</table>\n",
       "</div>"
      ],
      "text/plain": [
       "                 SPY  % Change  cum_rets\n",
       "Date                                    \n",
       "2000-01-03  145.4375       NaN       NaN\n",
       "2000-01-04  139.7500 -0.039106  0.960894\n",
       "2000-01-05  140.0000  0.001789  0.962613\n",
       "2000-01-06  137.7500 -0.016071  0.947142\n",
       "2000-01-07  145.7500  0.058076  1.002149"
      ]
     },
     "execution_count": 223,
     "metadata": {},
     "output_type": "execute_result"
    }
   ],
   "source": [
    "# Calculate daily % returns of SPY and show the cumulative (compounded) returns over time \n",
    "df_SP['% Change'] = df_SP['SPY'].pct_change()\n",
    "df_SP['cum_rets'] = (1 + df_SP['SPY'].pct_change()).cumprod()\n",
    "#df_SP['pct Change'] = df_SP['SPY'].pct_change()\n",
    "df_SP.head()"
   ]
  },
  {
   "cell_type": "code",
   "execution_count": 230,
   "metadata": {},
   "outputs": [
    {
     "data": {
      "text/plain": [
       "(0.04993773408888486, 0.25552149970765753)"
      ]
     },
     "execution_count": 230,
     "metadata": {},
     "output_type": "execute_result"
    }
   ],
   "source": [
    "SPY_mean = df_SP['% Change'].mean()*252\n",
    "SPY_vol = df_SP['% Change'].std()*np.sqrt(252)\n",
    "\n",
    "SPY_sharpe = SPY_mean / SPY_vol\n",
    "SPY_mean, SPY_sharpe"
   ]
  },
  {
   "cell_type": "code",
   "execution_count": 214,
   "metadata": {},
   "outputs": [
    {
     "data": {
      "text/plain": [
       "<matplotlib.text.Text at 0x2057478a9b0>"
      ]
     },
     "execution_count": 214,
     "metadata": {},
     "output_type": "execute_result"
    },
    {
     "data": {
      "image/png": "[encoded data removed]",
      "text/plain": [
       "<matplotlib.figure.Figure at 0x20571682a58>"
      ]
     },
     "metadata": {},
     "output_type": "display_data"
    }
   ],
   "source": [
    "import matplotlib.pyplot as plt\n",
    "%matplotlib inline\n",
    "plt.rcParams['figure.figsize'] = 12, 12\n",
    "\n",
    "ax1 = plt.subplot(211)\n",
    "df_SP['cum_rets'].plot(ax=ax1)\n",
    "ax1.set_ylabel('portfolio value')\n",
    "plt.title('SPY Buy & Hold')\n",
    "\n",
    "#ax2 = plt.subplot(212, sharex=ax1)\n",
    "#perf.AAPL.plot(ax=ax2)\n",
    "#ax2.set_ylabel('AAPL stock price')"
   ]
  },
  {
   "cell_type": "markdown",
   "metadata": {},
   "source": [
    "### Calculate pnl for Cash holdings (T-Bill - 30bps)"
   ]
  },
  {
   "cell_type": "code",
   "execution_count": 159,
   "metadata": {},
   "outputs": [
    {
     "data": {
      "text/html": [
       "<div>\n",
       "<style>\n",
       "    .dataframe thead tr:only-child th {\n",
       "        text-align: right;\n",
       "    }\n",
       "\n",
       "    .dataframe thead th {\n",
       "        text-align: left;\n",
       "    }\n",
       "\n",
       "    .dataframe tbody tr th {\n",
       "        vertical-align: top;\n",
       "    }\n",
       "</style>\n",
       "<table border=\"1\" class=\"dataframe\">\n",
       "  <thead>\n",
       "    <tr style=\"text-align: right;\">\n",
       "      <th></th>\n",
       "      <th>TB3MS</th>\n",
       "    </tr>\n",
       "    <tr>\n",
       "      <th>DATE</th>\n",
       "      <th></th>\n",
       "    </tr>\n",
       "  </thead>\n",
       "  <tbody>\n",
       "    <tr>\n",
       "      <th>2000-01-03</th>\n",
       "      <td>0.000138</td>\n",
       "    </tr>\n",
       "    <tr>\n",
       "      <th>2000-01-04</th>\n",
       "      <td>0.000138</td>\n",
       "    </tr>\n",
       "    <tr>\n",
       "      <th>2000-01-05</th>\n",
       "      <td>0.000138</td>\n",
       "    </tr>\n",
       "    <tr>\n",
       "      <th>2000-01-06</th>\n",
       "      <td>0.000138</td>\n",
       "    </tr>\n",
       "    <tr>\n",
       "      <th>2000-01-07</th>\n",
       "      <td>0.000138</td>\n",
       "    </tr>\n",
       "  </tbody>\n",
       "</table>\n",
       "</div>"
      ],
      "text/plain": [
       "               TB3MS\n",
       "DATE                \n",
       "2000-01-03  0.000138\n",
       "2000-01-04  0.000138\n",
       "2000-01-05  0.000138\n",
       "2000-01-06  0.000138\n",
       "2000-01-07  0.000138"
      ]
     },
     "execution_count": 159,
     "metadata": {},
     "output_type": "execute_result"
    }
   ],
   "source": [
    "import pandas_datareader as web\n",
    "\n",
    "#get the risk free rate (3 Month T-Bills)\n",
    "rf_yearly = pd.DataFrame(web.DataReader(\"TB3MS\", \"fred\", start=datetime.datetime(2000, 1, 1))['TB3MS'])\n",
    "\n",
    "rf_yearly['TB3MS'] = rf_yearly['TB3MS'] - 0.30\n",
    "rf_d = (rf_yearly.asfreq('D').fillna(method='pad'))/(365*100)\n",
    "\n",
    "rf = rf_d.iloc[2:].resample('B').ffill()\n",
    "\n",
    "rf.head()"
   ]
  },
  {
   "cell_type": "code",
   "execution_count": 160,
   "metadata": {},
   "outputs": [
    {
     "data": {
      "text/html": [
       "<div>\n",
       "<style>\n",
       "    .dataframe thead tr:only-child th {\n",
       "        text-align: right;\n",
       "    }\n",
       "\n",
       "    .dataframe thead th {\n",
       "        text-align: left;\n",
       "    }\n",
       "\n",
       "    .dataframe tbody tr th {\n",
       "        vertical-align: top;\n",
       "    }\n",
       "</style>\n",
       "<table border=\"1\" class=\"dataframe\">\n",
       "  <thead>\n",
       "    <tr style=\"text-align: right;\">\n",
       "      <th></th>\n",
       "      <th>TB3MS</th>\n",
       "      <th>% Change</th>\n",
       "    </tr>\n",
       "    <tr>\n",
       "      <th>DATE</th>\n",
       "      <th></th>\n",
       "      <th></th>\n",
       "    </tr>\n",
       "  </thead>\n",
       "  <tbody>\n",
       "    <tr>\n",
       "      <th>2000-01-03</th>\n",
       "      <td>0.000138</td>\n",
       "      <td>NaN</td>\n",
       "    </tr>\n",
       "    <tr>\n",
       "      <th>2000-01-04</th>\n",
       "      <td>0.000138</td>\n",
       "      <td>1.000138</td>\n",
       "    </tr>\n",
       "    <tr>\n",
       "      <th>2000-01-05</th>\n",
       "      <td>0.000138</td>\n",
       "      <td>1.000275</td>\n",
       "    </tr>\n",
       "    <tr>\n",
       "      <th>2000-01-06</th>\n",
       "      <td>0.000138</td>\n",
       "      <td>1.000413</td>\n",
       "    </tr>\n",
       "    <tr>\n",
       "      <th>2000-01-07</th>\n",
       "      <td>0.000138</td>\n",
       "      <td>1.000550</td>\n",
       "    </tr>\n",
       "  </tbody>\n",
       "</table>\n",
       "</div>"
      ],
      "text/plain": [
       "               TB3MS  % Change\n",
       "DATE                          \n",
       "2000-01-03  0.000138       NaN\n",
       "2000-01-04  0.000138  1.000138\n",
       "2000-01-05  0.000138  1.000275\n",
       "2000-01-06  0.000138  1.000413\n",
       "2000-01-07  0.000138  1.000550"
      ]
     },
     "execution_count": 160,
     "metadata": {},
     "output_type": "execute_result"
    }
   ],
   "source": [
    "# Calculate daily % returns of risk-free rate (3 Month T-Bills - 30 bps) & show cumulative (compounded) returns over time \n",
    "rf['% Change'] = (1 + rf['TB3MS'].iloc[1:]).cumprod()\n",
    "\n",
    "rf.head()"
   ]
  },
  {
   "cell_type": "code",
   "execution_count": 215,
   "metadata": {},
   "outputs": [
    {
     "data": {
      "text/plain": [
       "<matplotlib.legend.Legend at 0x20572feadd8>"
      ]
     },
     "execution_count": 215,
     "metadata": {},
     "output_type": "execute_result"
    },
    {
     "data": {
      "image/png": "[encoded data removed]",
      "text/plain": [
       "<matplotlib.figure.Figure at 0x20572fb0d30>"
      ]
     },
     "metadata": {},
     "output_type": "display_data"
    }
   ],
   "source": [
    "ax1 = plt.subplot(211)\n",
    "df_SP['cum_rets'].plot(ax=ax1, label='SPY')\n",
    "ax1.set_ylabel('portfolio value')\n",
    "plt.title('SPY (Buy & Hold) vs Cash')\n",
    "\n",
    "ax2 = plt.subplot(211)\n",
    "rf['% Change'].plot(ax=ax2, label='cash')\n",
    "\n",
    "plt.legend(loc=0)"
   ]
  },
  {
   "cell_type": "markdown",
   "metadata": {},
   "source": [
    "### Model Backtests - Predicted Returns"
   ]
  },
  {
   "cell_type": "markdown",
   "metadata": {},
   "source": [
    "#### simpLR - similar to 'Kitchen Sink' model in Hull paper"
   ]
  },
  {
   "cell_type": "code",
   "execution_count": 250,
   "metadata": {},
   "outputs": [
    {
     "data": {
      "text/html": [
       "<div>\n",
       "<style>\n",
       "    .dataframe thead tr:only-child th {\n",
       "        text-align: right;\n",
       "    }\n",
       "\n",
       "    .dataframe thead th {\n",
       "        text-align: left;\n",
       "    }\n",
       "\n",
       "    .dataframe tbody tr th {\n",
       "        vertical-align: top;\n",
       "    }\n",
       "</style>\n",
       "<table border=\"1\" class=\"dataframe\">\n",
       "  <thead>\n",
       "    <tr style=\"text-align: right;\">\n",
       "      <th></th>\n",
       "      <th>pred_ret</th>\n",
       "    </tr>\n",
       "    <tr>\n",
       "      <th>Date</th>\n",
       "      <th></th>\n",
       "    </tr>\n",
       "  </thead>\n",
       "  <tbody>\n",
       "    <tr>\n",
       "      <th>2000-01-03</th>\n",
       "      <td>0.030057</td>\n",
       "    </tr>\n",
       "    <tr>\n",
       "      <th>2000-01-04</th>\n",
       "      <td>0.066202</td>\n",
       "    </tr>\n",
       "    <tr>\n",
       "      <th>2000-01-05</th>\n",
       "      <td>0.047462</td>\n",
       "    </tr>\n",
       "    <tr>\n",
       "      <th>2000-01-06</th>\n",
       "      <td>0.055647</td>\n",
       "    </tr>\n",
       "    <tr>\n",
       "      <th>2000-01-07</th>\n",
       "      <td>0.052698</td>\n",
       "    </tr>\n",
       "  </tbody>\n",
       "</table>\n",
       "</div>"
      ],
      "text/plain": [
       "            pred_ret\n",
       "Date                \n",
       "2000-01-03  0.030057\n",
       "2000-01-04  0.066202\n",
       "2000-01-05  0.047462\n",
       "2000-01-06  0.055647\n",
       "2000-01-07  0.052698"
      ]
     },
     "execution_count": 250,
     "metadata": {},
     "output_type": "execute_result"
    }
   ],
   "source": [
    "df_simp = pd.read_csv(r'Predicted_Return\\PredReturn_simpLR.csv',names=['Date', 'pred_ret'],index_col='Date',parse_dates=True)\n",
    "\n",
    "df_simp.head()"
   ]
  },
  {
   "cell_type": "code",
   "execution_count": 251,
   "metadata": {},
   "outputs": [
    {
     "data": {
      "text/html": [
       "<div>\n",
       "<style>\n",
       "    .dataframe thead tr:only-child th {\n",
       "        text-align: right;\n",
       "    }\n",
       "\n",
       "    .dataframe thead th {\n",
       "        text-align: left;\n",
       "    }\n",
       "\n",
       "    .dataframe tbody tr th {\n",
       "        vertical-align: top;\n",
       "    }\n",
       "</style>\n",
       "<table border=\"1\" class=\"dataframe\">\n",
       "  <thead>\n",
       "    <tr style=\"text-align: right;\">\n",
       "      <th></th>\n",
       "      <th>pred_ret</th>\n",
       "      <th>pos_size</th>\n",
       "    </tr>\n",
       "    <tr>\n",
       "      <th>Date</th>\n",
       "      <th></th>\n",
       "      <th></th>\n",
       "    </tr>\n",
       "  </thead>\n",
       "  <tbody>\n",
       "    <tr>\n",
       "      <th>2000-01-03</th>\n",
       "      <td>0.030057</td>\n",
       "      <td>0.2</td>\n",
       "    </tr>\n",
       "    <tr>\n",
       "      <th>2000-01-04</th>\n",
       "      <td>0.066202</td>\n",
       "      <td>0.5</td>\n",
       "    </tr>\n",
       "    <tr>\n",
       "      <th>2000-01-05</th>\n",
       "      <td>0.047462</td>\n",
       "      <td>0.4</td>\n",
       "    </tr>\n",
       "    <tr>\n",
       "      <th>2000-01-06</th>\n",
       "      <td>0.055647</td>\n",
       "      <td>0.4</td>\n",
       "    </tr>\n",
       "    <tr>\n",
       "      <th>2000-01-07</th>\n",
       "      <td>0.052698</td>\n",
       "      <td>0.4</td>\n",
       "    </tr>\n",
       "  </tbody>\n",
       "</table>\n",
       "</div>"
      ],
      "text/plain": [
       "            pred_ret  pos_size\n",
       "Date                          \n",
       "2000-01-03  0.030057       0.2\n",
       "2000-01-04  0.066202       0.5\n",
       "2000-01-05  0.047462       0.4\n",
       "2000-01-06  0.055647       0.4\n",
       "2000-01-07  0.052698       0.4"
      ]
     },
     "execution_count": 251,
     "metadata": {},
     "output_type": "execute_result"
    }
   ],
   "source": [
    "mult = 8\n",
    "df_simp['pos_size'] = (df_simp['pred_ret'] * mult).round(1).clip(-0.5,1.5)\n",
    "#df_simp['pos_size'].clip(-0.5,1.5)\n",
    "\n",
    "df_simp.head()"
   ]
  },
  {
   "cell_type": "code",
   "execution_count": 254,
   "metadata": {},
   "outputs": [
    {
     "data": {
      "text/html": [
       "<div>\n",
       "<style>\n",
       "    .dataframe thead tr:only-child th {\n",
       "        text-align: right;\n",
       "    }\n",
       "\n",
       "    .dataframe thead th {\n",
       "        text-align: left;\n",
       "    }\n",
       "\n",
       "    .dataframe tbody tr th {\n",
       "        vertical-align: top;\n",
       "    }\n",
       "</style>\n",
       "<table border=\"1\" class=\"dataframe\">\n",
       "  <thead>\n",
       "    <tr style=\"text-align: right;\">\n",
       "      <th></th>\n",
       "      <th>SPY</th>\n",
       "      <th>% Change</th>\n",
       "      <th>cum_rets</th>\n",
       "      <th>simp_pos</th>\n",
       "    </tr>\n",
       "    <tr>\n",
       "      <th>Date</th>\n",
       "      <th></th>\n",
       "      <th></th>\n",
       "      <th></th>\n",
       "      <th></th>\n",
       "    </tr>\n",
       "  </thead>\n",
       "  <tbody>\n",
       "    <tr>\n",
       "      <th>2000-01-03</th>\n",
       "      <td>145.4375</td>\n",
       "      <td>NaN</td>\n",
       "      <td>NaN</td>\n",
       "      <td>0.2</td>\n",
       "    </tr>\n",
       "    <tr>\n",
       "      <th>2000-01-04</th>\n",
       "      <td>139.7500</td>\n",
       "      <td>-0.039106</td>\n",
       "      <td>0.960894</td>\n",
       "      <td>0.5</td>\n",
       "    </tr>\n",
       "    <tr>\n",
       "      <th>2000-01-05</th>\n",
       "      <td>140.0000</td>\n",
       "      <td>0.001789</td>\n",
       "      <td>0.962613</td>\n",
       "      <td>0.4</td>\n",
       "    </tr>\n",
       "    <tr>\n",
       "      <th>2000-01-06</th>\n",
       "      <td>137.7500</td>\n",
       "      <td>-0.016071</td>\n",
       "      <td>0.947142</td>\n",
       "      <td>0.4</td>\n",
       "    </tr>\n",
       "    <tr>\n",
       "      <th>2000-01-07</th>\n",
       "      <td>145.7500</td>\n",
       "      <td>0.058076</td>\n",
       "      <td>1.002149</td>\n",
       "      <td>0.4</td>\n",
       "    </tr>\n",
       "  </tbody>\n",
       "</table>\n",
       "</div>"
      ],
      "text/plain": [
       "                 SPY  % Change  cum_rets  simp_pos\n",
       "Date                                              \n",
       "2000-01-03  145.4375       NaN       NaN       0.2\n",
       "2000-01-04  139.7500 -0.039106  0.960894       0.5\n",
       "2000-01-05  140.0000  0.001789  0.962613       0.4\n",
       "2000-01-06  137.7500 -0.016071  0.947142       0.4\n",
       "2000-01-07  145.7500  0.058076  1.002149       0.4"
      ]
     },
     "execution_count": 254,
     "metadata": {},
     "output_type": "execute_result"
    }
   ],
   "source": [
    "df_ret = df_SP.join(pd.DataFrame({'simp_pos' : df_simp['pos_size'][df_simp.index >= dt.datetime(2000, 1, 3)]}))\n",
    "#data.join(pd.DataFrame({'VSTOXX' :\n",
    "                              #vs['V2TX'][vs.index > dt.datetime(1999, 1, 1)]}))\n",
    "df_ret.head()    "
   ]
  },
  {
   "cell_type": "code",
   "execution_count": 268,
   "metadata": {},
   "outputs": [
    {
     "data": {
      "text/html": [
       "<div>\n",
       "<style>\n",
       "    .dataframe thead tr:only-child th {\n",
       "        text-align: right;\n",
       "    }\n",
       "\n",
       "    .dataframe thead th {\n",
       "        text-align: left;\n",
       "    }\n",
       "\n",
       "    .dataframe tbody tr th {\n",
       "        vertical-align: top;\n",
       "    }\n",
       "</style>\n",
       "<table border=\"1\" class=\"dataframe\">\n",
       "  <thead>\n",
       "    <tr style=\"text-align: right;\">\n",
       "      <th></th>\n",
       "      <th>SPY</th>\n",
       "      <th>% Change</th>\n",
       "      <th>cum_rets</th>\n",
       "      <th>simp_pos</th>\n",
       "      <th>simp(% Change)</th>\n",
       "      <th>simp(cum_rets)</th>\n",
       "    </tr>\n",
       "    <tr>\n",
       "      <th>Date</th>\n",
       "      <th></th>\n",
       "      <th></th>\n",
       "      <th></th>\n",
       "      <th></th>\n",
       "      <th></th>\n",
       "      <th></th>\n",
       "    </tr>\n",
       "  </thead>\n",
       "  <tbody>\n",
       "    <tr>\n",
       "      <th>2000-01-03</th>\n",
       "      <td>145.4375</td>\n",
       "      <td>NaN</td>\n",
       "      <td>NaN</td>\n",
       "      <td>0.2</td>\n",
       "      <td>NaN</td>\n",
       "      <td>NaN</td>\n",
       "    </tr>\n",
       "    <tr>\n",
       "      <th>2000-01-04</th>\n",
       "      <td>139.7500</td>\n",
       "      <td>-0.039106</td>\n",
       "      <td>0.960894</td>\n",
       "      <td>0.5</td>\n",
       "      <td>-0.007821</td>\n",
       "      <td>0.992179</td>\n",
       "    </tr>\n",
       "    <tr>\n",
       "      <th>2000-01-05</th>\n",
       "      <td>140.0000</td>\n",
       "      <td>0.001789</td>\n",
       "      <td>0.962613</td>\n",
       "      <td>0.4</td>\n",
       "      <td>0.000894</td>\n",
       "      <td>0.993066</td>\n",
       "    </tr>\n",
       "    <tr>\n",
       "      <th>2000-01-06</th>\n",
       "      <td>137.7500</td>\n",
       "      <td>-0.016071</td>\n",
       "      <td>0.947142</td>\n",
       "      <td>0.4</td>\n",
       "      <td>-0.006429</td>\n",
       "      <td>0.986682</td>\n",
       "    </tr>\n",
       "    <tr>\n",
       "      <th>2000-01-07</th>\n",
       "      <td>145.7500</td>\n",
       "      <td>0.058076</td>\n",
       "      <td>1.002149</td>\n",
       "      <td>0.4</td>\n",
       "      <td>0.023230</td>\n",
       "      <td>1.009603</td>\n",
       "    </tr>\n",
       "  </tbody>\n",
       "</table>\n",
       "</div>"
      ],
      "text/plain": [
       "                 SPY  % Change  cum_rets  simp_pos  simp(% Change)  \\\n",
       "Date                                                                 \n",
       "2000-01-03  145.4375       NaN       NaN       0.2             NaN   \n",
       "2000-01-04  139.7500 -0.039106  0.960894       0.5       -0.007821   \n",
       "2000-01-05  140.0000  0.001789  0.962613       0.4        0.000894   \n",
       "2000-01-06  137.7500 -0.016071  0.947142       0.4       -0.006429   \n",
       "2000-01-07  145.7500  0.058076  1.002149       0.4        0.023230   \n",
       "\n",
       "            simp(cum_rets)  \n",
       "Date                        \n",
       "2000-01-03             NaN  \n",
       "2000-01-04        0.992179  \n",
       "2000-01-05        0.993066  \n",
       "2000-01-06        0.986682  \n",
       "2000-01-07        1.009603  "
      ]
     },
     "execution_count": 268,
     "metadata": {},
     "output_type": "execute_result"
    }
   ],
   "source": [
    "# Calculate model returns by multiplying previous day's position size (-0.5 to 1.5) by the following day's SPY return\n",
    "# ==> This simulates putting on the desired position at the closing price on trade date 't' & recording its performance on 't+1'\n",
    "\n",
    "# takingthe previous day's position size is done by applying a 'shift()' function to the time series data\n",
    "df_ret['simp(% Change)'] = (df_ret['SPY'].pct_change()) * df_ret['simp_pos'].shift(1)\n",
    "df_ret['simp(cum_rets)'] = (1 + (df_ret['SPY'].pct_change() * df_ret['simp_pos'].shift(1))).cumprod()\n",
    "\n",
    "df_ret.head()"
   ]
  },
  {
   "cell_type": "code",
   "execution_count": 270,
   "metadata": {},
   "outputs": [
    {
     "data": {
      "text/plain": [
       "(0.13354511809906863, 0.98580274118009847)"
      ]
     },
     "execution_count": 270,
     "metadata": {},
     "output_type": "execute_result"
    }
   ],
   "source": [
    "simp_mean = df_ret['simp(% Change)'].mean()*252\n",
    "simp_vol = df_ret['simp(% Change)'].std()*np.sqrt(252)\n",
    "\n",
    "simp_sharpe = simp_mean / simp_vol\n",
    "simp_mean, simp_sharpe"
   ]
  },
  {
   "cell_type": "code",
   "execution_count": 271,
   "metadata": {},
   "outputs": [
    {
     "data": {
      "text/plain": [
       "<matplotlib.legend.Legend at 0x20574a0f630>"
      ]
     },
     "execution_count": 271,
     "metadata": {},
     "output_type": "execute_result"
    },
    {
     "data": {
      "image/png": "[encoded data removed]",
      "text/plain": [
       "<matplotlib.figure.Figure at 0x20574a3fcc0>"
      ]
     },
     "metadata": {},
     "output_type": "display_data"
    }
   ],
   "source": [
    "ax1 = plt.subplot(211)\n",
    "df_ret['cum_rets'].plot(ax=ax1, label='SPY')\n",
    "ax1.set_ylabel('portfolio value')\n",
    "plt.title('SPY (Buy & Hold) vs Simple LR')\n",
    "\n",
    "ax2 = plt.subplot(211)\n",
    "rf['% Change'].plot(ax=ax2, label='cash')\n",
    "\n",
    "ax3 = plt.subplot(211)\n",
    "df_ret['simp(cum_rets)'].plot(ax=ax3, label='Simple LR')\n",
    "plt.legend(loc=0)"
   ]
  },
  {
   "cell_type": "code",
   "execution_count": null,
   "metadata": {
    "collapsed": true
   },
   "outputs": [],
   "source": []
  }
 ],
 "metadata": {
  "kernelspec": {
   "display_name": "Python 3",
   "language": "python",
   "name": "python3"
  },
  "language_info": {
   "codemirror_mode": {
    "name": "ipython",
    "version": 3
   },
   "file_extension": ".py",
   "mimetype": "text/x-python",
   "name": "python",
   "nbconvert_exporter": "python",
   "pygments_lexer": "ipython3",
   "version": "3.6.1"
  }
 },
 "nbformat": 4,
 "nbformat_minor": 2
}
