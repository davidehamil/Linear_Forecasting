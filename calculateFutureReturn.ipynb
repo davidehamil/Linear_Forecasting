{
 "cells": [
  {
   "cell_type": "code",
   "execution_count": 1,
   "metadata": {
    "collapsed": true
   },
   "outputs": [],
   "source": [
    "import pandas as pd\n",
    "import datetime"
   ]
  },
  {
   "cell_type": "code",
   "execution_count": 36,
   "metadata": {
    "collapsed": true
   },
   "outputs": [],
   "source": [
    "filename = r'E:\\NYU MathFin\\courses\\data science in quant finance\\short project\\data\\rawdata\\SPX.csv'\n",
    "spx = pd.read_csv(filename, usecols=[0,1],header=0, names = ['Date','SPX'],parse_dates  = ['Date']) \n",
    "spx = spx.set_index('Date')\n",
    "spx = spx.sort_index()"
   ]
  },
  {
   "cell_type": "code",
   "execution_count": 46,
   "metadata": {
    "collapsed": true
   },
   "outputs": [],
   "source": [
    "def getFutureReturn(df,ndays,colname='R'):\n",
    "    r = df.pct_change(ndays).shift(-ndays)\n",
    "    r.columns = [colname]\n",
    "    return r\n"
   ]
  },
  {
   "cell_type": "code",
   "execution_count": 49,
   "metadata": {},
   "outputs": [],
   "source": [
    "r1 = getFutureReturn(spx,22,'R_1M')\n",
    "r2 = getFutureReturn(spx,65,'R_3M')\n",
    "r3 = getFutureReturn(spx,126,'R_6M')\n",
    "r4 = getFutureReturn(spx,252,'R_12M')"
   ]
  },
  {
   "cell_type": "code",
   "execution_count": 52,
   "metadata": {},
   "outputs": [],
   "source": [
    "futRet = pd.concat([r1,r2,r3,r4],axis=1)\n",
    "futRet.to_csv(r'E:\\NYU MathFin\\courses\\data science in quant finance\\short project\\data\\FutureReturn.csv')"
   ]
  }
 ],
 "metadata": {
  "kernelspec": {
   "display_name": "Python 3",
   "language": "python",
   "name": "python3"
  },
  "language_info": {
   "codemirror_mode": {
    "name": "ipython",
    "version": 3
   },
   "file_extension": ".py",
   "mimetype": "text/x-python",
   "name": "python",
   "nbconvert_exporter": "python",
   "pygments_lexer": "ipython3",
   "version": "3.6.2"
  }
 },
 "nbformat": 4,
 "nbformat_minor": 2
}
